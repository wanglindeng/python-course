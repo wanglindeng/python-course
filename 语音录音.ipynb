{
 "cells": [
  {
   "cell_type": "code",
   "execution_count": null,
   "metadata": {},
   "outputs": [],
   "source": [
    "import wave\n",
    "from pyaudio import PyAudio,paInt16\n",
    "from threading import Timer\n",
    "import time\n",
    "\n",
    "framerate=8000\n",
    "NUM_SAMPLES=2000\n",
    "channels=1\n",
    "sampwidth=2\n",
    "TIME=2\n",
    "def save_wave_file(filename,data):\n",
    "    '''save the date to the wavfile'''\n",
    "    wf=wave.open(filename,'wb')\n",
    "    wf.setnchannels(channels)\n",
    "    wf.setsampwidth(sampwidth)\n",
    "    wf.setframerate(framerate)\n",
    "    wf.writeframes(b\"\".join(data))\n",
    "    wf.close()\n",
    "\n",
    "def my_record():\n",
    "    pa=PyAudio()\n",
    "    stream=pa.open(format = paInt16,channels=1,\n",
    "                   rate=framerate,input=True,\n",
    "                   frames_per_buffer=NUM_SAMPLES)\n",
    "    my_buf=[]\n",
    "    count=0\n",
    "    print(\"录音开始，请说话！\")\n",
    "    while count<TIME*15:#控制录音时间\n",
    "        string_audio_data = stream.read(NUM_SAMPLES)\n",
    "        my_buf.append(string_audio_data)\n",
    "        count+=1\n",
    "        print('.')\n",
    "    print(\"录音结束，请停止说话！\")\n",
    "    print('\\n\\n')\n",
    "    save_wave_file('01.wav',my_buf)\n",
    "    stream.close()\n",
    "\n",
    "chunk=2014\n",
    "def play():\n",
    "    wf=wave.open(r\"01.wav\",'rb')\n",
    "    p=PyAudio()\n",
    "    stream=p.open(format=p.get_format_from_width(wf.getsampwidth()),channels=\n",
    "    wf.getnchannels(),rate=wf.getframerate(),output=True)\n",
    "    while True:\n",
    "        data=wf.readframes(chunk)\n",
    "        if data==\"\":break\n",
    "        stream.write(data)\n",
    "    stream.close()\n",
    "    p.terminate()"
   ]
  },
  {
   "cell_type": "code",
   "execution_count": null,
   "metadata": {},
   "outputs": [],
   "source": [
    "def luyin():\n",
    "    if __name__ == '__main__':\n",
    "        my_record()\n",
    "        time.sleep(4)\n",
    "        print(\"现在开始播放录音：\")\n",
    "        time.sleep(2)\n",
    "        play()\n",
    "        time.sleep(15)\n",
    "        print(\"录音播放结束！\")"
   ]
  },
  {
   "cell_type": "code",
   "execution_count": null,
   "metadata": {},
   "outputs": [],
   "source": []
  },
  {
   "cell_type": "code",
   "execution_count": null,
   "metadata": {},
   "outputs": [],
   "source": []
  },
  {
   "cell_type": "code",
   "execution_count": null,
   "metadata": {},
   "outputs": [],
   "source": []
  },
  {
   "cell_type": "code",
   "execution_count": null,
   "metadata": {},
   "outputs": [],
   "source": []
  }
 ],
 "metadata": {
  "kernelspec": {
   "display_name": "Python 3",
   "language": "python",
   "name": "python3"
  },
  "language_info": {
   "codemirror_mode": {
    "name": "ipython",
    "version": 3
   },
   "file_extension": ".py",
   "mimetype": "text/x-python",
   "name": "python",
   "nbconvert_exporter": "python",
   "pygments_lexer": "ipython3",
   "version": "3.7.4"
  }
 },
 "nbformat": 4,
 "nbformat_minor": 2
}
