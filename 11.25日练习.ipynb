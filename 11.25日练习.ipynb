{
 "cells": [
  {
   "cell_type": "code",
   "execution_count": 1,
   "metadata": {},
   "outputs": [
    {
     "name": "stdout",
     "output_type": "stream",
     "text": [
      "{'1': 'wang', '2': 'lin', '3': 'deng'}\n"
     ]
    }
   ],
   "source": [
    "zdict={}\n",
    "zdict['1']='wang'\n",
    "zdict['2']='lin'\n",
    "zdict['3']='deng'\n",
    "print(zdict)"
   ]
  },
  {
   "cell_type": "code",
   "execution_count": 2,
   "metadata": {},
   "outputs": [
    {
     "name": "stdout",
     "output_type": "stream",
     "text": [
      "{'1': 'hua', '2': 'dong', '3': 'shi', '4': 'fan'}\n"
     ]
    }
   ],
   "source": [
    "zdict1={'1':'hua','2':'dong','3':'shi','4':'fan'}\n",
    "print(zdict1)"
   ]
  },
  {
   "cell_type": "code",
   "execution_count": 16,
   "metadata": {},
   "outputs": [
    {
     "name": "stdout",
     "output_type": "stream",
     "text": [
      "\n",
      "if\n",
      "x<y\n"
     ]
    }
   ],
   "source": [
    "print('\\nif')\n",
    "x,y,z=10,15,20\n",
    "if x>y:\n",
    "    print('x>y')\n",
    "else:\n",
    "    print('x<y')"
   ]
  },
  {
   "cell_type": "code",
   "execution_count": 18,
   "metadata": {},
   "outputs": [
    {
     "name": "stdout",
     "output_type": "stream",
     "text": [
      "3\n",
      "2\n",
      "1\n"
     ]
    }
   ],
   "source": [
    "x=3\n",
    "while x>0:\n",
    "    print(x)\n",
    "    x-=1"
   ]
  },
  {
   "cell_type": "code",
   "execution_count": 19,
   "metadata": {},
   "outputs": [
    {
     "name": "stdout",
     "output_type": "stream",
     "text": [
      "1\n",
      "b\n",
      "xxx\n"
     ]
    }
   ],
   "source": [
    "xlst=['1','b','xxx']\n",
    "for x in xlst:\n",
    "    print(x)"
   ]
  },
  {
   "cell_type": "code",
   "execution_count": 22,
   "metadata": {},
   "outputs": [
    {
     "name": "stdout",
     "output_type": "stream",
     "text": [
      "0\n",
      "1\n",
      "2\n"
     ]
    }
   ],
   "source": [
    "for x in range(3):\n",
    "    print(x)"
   ]
  },
  {
   "cell_type": "code",
   "execution_count": 24,
   "metadata": {},
   "outputs": [
    {
     "name": "stdout",
     "output_type": "stream",
     "text": [
      "1\n",
      "2\n"
     ]
    }
   ],
   "source": [
    "for x in range(1,3):\n",
    "    print(x)"
   ]
  },
  {
   "cell_type": "code",
   "execution_count": 26,
   "metadata": {},
   "outputs": [
    {
     "name": "stdout",
     "output_type": "stream",
     "text": [
      "1\n",
      "6\n",
      "11\n",
      "16\n",
      "21\n",
      "26\n",
      "31\n",
      "36\n",
      "41\n",
      "46\n"
     ]
    }
   ],
   "source": [
    "for  x in range(1,50,5):\n",
    "    print(x)"
   ]
  },
  {
   "cell_type": "code",
   "execution_count": 27,
   "metadata": {},
   "outputs": [
    {
     "name": "stdout",
     "output_type": "stream",
     "text": [
      "a,b,c 1 2 3\n",
      "x,y,z 4 4 6\n"
     ]
    }
   ],
   "source": [
    "#定义函数\n",
    "def f1(a,b,c):\n",
    "    print('a,b,c',a,b,c)\n",
    "    a2,b2,c2=a+c,b*2,c*2\n",
    "    return a2,b2,c2\n",
    "\n",
    "x,y,z=f1(1,2,3)\n",
    "print('x,y,z',x,y,z)"
   ]
  },
  {
   "cell_type": "code",
   "execution_count": 28,
   "metadata": {},
   "outputs": [
    {
     "name": "stdout",
     "output_type": "stream",
     "text": [
      "s2 hello  ziwang.com\n"
     ]
    }
   ],
   "source": [
    "dss='   hello  ziwang.com,,'\n",
    "s2=dss.strip().lstrip().rstrip(',')#去空格\n",
    "print('s2',s2)"
   ]
  },
  {
   "cell_type": "code",
   "execution_count": 29,
   "metadata": {},
   "outputs": [
    {
     "name": "stdout",
     "output_type": "stream",
     "text": [
      "hello  ziwang.com,,\n"
     ]
    }
   ],
   "source": [
    "dss='   hello  ziwang.com,,'\n",
    "s1=dss.strip()\n",
    "print(s1)"
   ]
  },
  {
   "cell_type": "code",
   "execution_count": 31,
   "metadata": {},
   "outputs": [
    {
     "name": "stdout",
     "output_type": "stream",
     "text": [
      "hello  ziwang.com,,       \n"
     ]
    }
   ],
   "source": [
    "dss='   hello  ziwang.com,,       '\n",
    "s3=dss.lstrip()\n",
    "print(s3)"
   ]
  },
  {
   "cell_type": "code",
   "execution_count": 34,
   "metadata": {},
   "outputs": [
    {
     "name": "stdout",
     "output_type": "stream",
     "text": [
      "s2 a   hello  ziwang.com,,       ,   hello  ziwang.com,,       c\n"
     ]
    }
   ],
   "source": [
    "s2=dss.join(['a',',','c'])\n",
    "print('s2',s2)"
   ]
  },
  {
   "cell_type": "code",
   "execution_count": 35,
   "metadata": {},
   "outputs": [
    {
     "name": "stdout",
     "output_type": "stream",
     "text": [
      "pi 2\n"
     ]
    }
   ],
   "source": [
    "css='abc1c2c3'\n",
    "pi=css.find('c')\n",
    "print('pi',pi)"
   ]
  },
  {
   "cell_type": "code",
   "execution_count": 36,
   "metadata": {},
   "outputs": [
    {
     "name": "stdout",
     "output_type": "stream",
     "text": [
      "8\n"
     ]
    }
   ],
   "source": [
    "print(len(css))"
   ]
  },
  {
   "cell_type": "code",
   "execution_count": 38,
   "metadata": {},
   "outputs": [
    {
     "name": "stdout",
     "output_type": "stream",
     "text": [
      "大写,css.upper() ABC1C2C3\n"
     ]
    }
   ],
   "source": [
    "print('大写,css.upper()',css.upper())"
   ]
  },
  {
   "cell_type": "code",
   "execution_count": 41,
   "metadata": {},
   "outputs": [
    {
     "name": "stdout",
     "output_type": "stream",
     "text": [
      "['    hello', ' ziwang', 'com', '', '']\n"
     ]
    }
   ],
   "source": [
    "s2='    hello, ziwang,com,,'\n",
    "print(s2.split(','))"
   ]
  },
  {
   "cell_type": "code",
   "execution_count": null,
   "metadata": {},
   "outputs": [],
   "source": []
  }
 ],
 "metadata": {
  "kernelspec": {
   "display_name": "Python 3",
   "language": "python",
   "name": "python3"
  },
  "language_info": {
   "codemirror_mode": {
    "name": "ipython",
    "version": 3
   },
   "file_extension": ".py",
   "mimetype": "text/x-python",
   "name": "python",
   "nbconvert_exporter": "python",
   "pygments_lexer": "ipython3",
   "version": "3.7.3"
  }
 },
 "nbformat": 4,
 "nbformat_minor": 2
}
