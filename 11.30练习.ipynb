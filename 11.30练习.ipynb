{
 "cells": [
  {
   "cell_type": "code",
   "execution_count": 7,
   "metadata": {},
   "outputs": [
    {
     "name": "stderr",
     "output_type": "stream",
     "text": [
      "Building prefix dict from the default dictionary ...\n",
      "Dumping model to file cache C:\\Users\\DELL\\AppData\\Local\\Temp\\jieba.cache\n",
      "Loading model cost 7.227 seconds.\n",
      "Prefix dict has been built succesfully.\n"
     ]
    },
    {
     "name": "stdout",
     "output_type": "stream",
     "text": [
      "【全模式】：他/ 来到/ 上海/ 上海交通大学/ 交通/ 大学\n"
     ]
    }
   ],
   "source": [
    "import jieba\n",
    "import jieba.posseg as pseg\n",
    "import jieba.analyse as anls\n",
    "\n",
    "seg_list = jieba.cut(\"他来到上海交通大学\", cut_all=True)\n",
    "print(\"【全模式】：\" + \"/ \".join(seg_list))  "
   ]
  },
  {
   "cell_type": "code",
   "execution_count": 8,
   "metadata": {},
   "outputs": [
    {
     "name": "stdout",
     "output_type": "stream",
     "text": [
      "【全模式】：他/ 来到/ 上海/ 上海交通大学/ 交通/ 大学\n"
     ]
    }
   ],
   "source": [
    "a = jieba.cut(\"他来到上海交通大学\", cut_all=True)\n",
    "print(\"【全模式】：\" + \"/ \".join(a))  "
   ]
  },
  {
   "cell_type": "code",
   "execution_count": 9,
   "metadata": {},
   "outputs": [
    {
     "name": "stdout",
     "output_type": "stream",
     "text": [
      "【精确模式】：他/ 来到/ 上海交通大学\n"
     ]
    }
   ],
   "source": [
    "seg_list = jieba.cut(\"他来到上海交通大学\", cut_all=False)\n",
    "print(\"【精确模式】：\" + \"/ \".join(seg_list))  "
   ]
  },
  {
   "cell_type": "code",
   "execution_count": 12,
   "metadata": {},
   "outputs": [
    {
     "name": "stdout",
     "output_type": "stream",
     "text": [
      "【返回列表】：['他', '来到', '上海', '上海交通大学', '交通', '大学']\n"
     ]
    }
   ],
   "source": [
    "seg_list = jieba.lcut(\"他来到上海交通大学\", cut_all=True)\n",
    "print(\"【返回列表】：{0}\".format(seg_list))"
   ]
  },
  {
   "cell_type": "code",
   "execution_count": 18,
   "metadata": {},
   "outputs": [
    {
     "name": "stdout",
     "output_type": "stream",
     "text": [
      "【确模式】：毛泽东/ （/ 1893/ 年/ 12/ 月/ 26/ 日/ -/ 1976/ 年/ 9/ 月/ 9/ 日/ ）/ ，/ 字润/ 之/ （/ 原作/ 咏芝/ ，/ 后/ 改润芝/ ）/ ，/ 笔名/ 子任/ 。/ 湖南/ 湘潭人/ 。/ 中国/ 人民/ 的/ 领袖/ ，/ 伟大/ 的/ 马克思主义者/ ，/ 无产阶级/ 革命家/ 、/ 战略家/ 和/ 理论家/ ，/ 中国共产党/ 、/ 中国人民解放军/ 和/ 中华人民共和国/ 的/ 主要/ 缔造者/ 和/ 领导人/ ，/ 诗人/ ，/ 书法家/ 。/ 1949/ 至/ 1976/ 年/ ，/ 毛泽东/ 担任/ 中华人民共和国/ 最高/ 领导人/ 。/ 他/ 对/ 马克思列宁主义/ 的/ 发展/ 、/ 军事/ 理论/ 的/ 贡献/ 以及/ 对/ 共产党/ 的/ 理论/ 贡献/ 被/ 称为/ 毛泽东思想/ 。/ 因/ 毛泽东/ 担任/ 过/ 的/ 主要/ 职务/ 几乎/ 全部/ 称为/ 主席/ ，/ 所以/ 也/ 被/ 人们/ 尊称/ 为/ “/ 毛主席/ ”/ 。/ 毛泽东/ 被/ 视为/ 现代/ 世界/ 历史/ 中/ 最/ 重要/ 的/ 人物/ 之一/ ，/ 《/ 时代/ 》/ 杂志/ 也/ 将/ 他/ 评为/ 20/ 世纪/ 最具/ 影响/ 100/ 人/ 之一/ 。\n"
     ]
    }
   ],
   "source": [
    "seg_list = jieba.lcut(\"毛泽东（1893年12月26日-1976年9月9日），字润之（原作咏芝，后改润芝），笔名子任。湖南湘潭人。中国人民的领袖，伟大的马克思主义者，无产阶级革命家、战略家和理论家，中国共产党、中国人民解放军和中华人民共和国的主要缔造者和领导人，诗人，书法家。1949至1976年，毛泽东担任中华人民共和国最高领导人。他对马克思列宁主义的发展、军事理论的贡献以及对共产党的理论贡献被称为毛泽东思想。因毛泽东担任过的主要职务几乎全部称为主席，所以也被人们尊称为“毛主席”。毛泽东被视为现代世界历史中最重要的人物之一，《时代》杂志也将他评为20世纪最具影响100人之一。\", cut_all=False)\n",
    "print(\"【确模式】：\" + \"/ \".join(seg_list))"
   ]
  },
  {
   "cell_type": "code",
   "execution_count": 19,
   "metadata": {},
   "outputs": [
    {
     "name": "stdout",
     "output_type": "stream",
     "text": [
      "【搜索引擎模式】：他/ 毕业/ 于/ 上海/ 交通/ 大学/ 上海交通大学/ 机电/ 系/ ，/ 后来/ 在/ 一机部/ 上海/ 电器/ 科学/ 研究/ 研究所/ 工作\n"
     ]
    }
   ],
   "source": [
    "seg_list = jieba.cut_for_search(\"他毕业于上海交通大学机电系，后来在一机部上海电器科学研究所工作\")  \n",
    "print(\"【搜索引擎模式】：\" + \"/ \".join(seg_list))"
   ]
  },
  {
   "cell_type": "code",
   "execution_count": 20,
   "metadata": {},
   "outputs": [
    {
     "name": "stdout",
     "output_type": "stream",
     "text": [
      "【未启用 HMM】：他/ 来到/ 了/ 网易/ 杭/ 研/ 大厦\n"
     ]
    }
   ],
   "source": [
    "# 未启用 HMM\n",
    "seg_list = jieba.cut(\"他来到了网易杭研大厦\", HMM=False) #默认精确模式和启用 HMM\n",
    "print(\"【未启用 HMM】：\" + \"/ \".join(seg_list))"
   ]
  },
  {
   "cell_type": "code",
   "execution_count": 21,
   "metadata": {},
   "outputs": [
    {
     "name": "stdout",
     "output_type": "stream",
     "text": [
      "【识别新词】：他/ 来到/ 了/ 网易/ 杭研/ 大厦\n"
     ]
    }
   ],
   "source": [
    "# 识别新词\n",
    "seg_list = jieba.cut(\"他来到了网易杭研大厦\") #默认精确模式和启用 HMM\n",
    "print(\"【识别新词】：\" + \"/ \".join(seg_list))  "
   ]
  },
  {
   "cell_type": "code",
   "execution_count": 22,
   "metadata": {},
   "outputs": [
    {
     "name": "stdout",
     "output_type": "stream",
     "text": [
      "【全模式】：人生/ 易/ 老天/ 難/ 老/ / / 歲/ 歲/ 重/ 陽/ / / 今/ 又/ 重/ 陽/ / / 戰/ 地/ 黃/ 花/ 分外/ 香/ / / 壹年/ 壹/ 度/ 秋/ 風/ 勁/ / / 不似/ 春光/ / / 勝/ 似/ 春光/ / / 寥廓/ 江天/ 萬/ 裏/ 霜/ / \n"
     ]
    }
   ],
   "source": [
    "ft_text = \"\"\"人生易老天難老 歲歲重陽 今又重陽 戰地黃花分外香 壹年壹度秋風勁 不似春光 勝似春光 寥廓江天萬裏霜 \"\"\"\n",
    "print(\"【全模式】：\" + \"/ \".join(jieba.cut(ft_text, cut_all=True)))  "
   ]
  },
  {
   "cell_type": "code",
   "execution_count": 24,
   "metadata": {},
   "outputs": [
    {
     "name": "stdout",
     "output_type": "stream",
     "text": [
      "【精确模式】：人生/ 易/ 老天/ 難老/  / 歲/ 歲/ 重陽/  / 今/ 又/ 重陽/  / 戰地/ 黃/ 花/ 分外/ 香/  / 壹年/ 壹度/ 秋風勁/  / 不/ 似/ 春光/  / 勝似/ 春光/  / 寥廓/ 江天/ 萬/ 裏/ 霜/  \n"
     ]
    }
   ],
   "source": [
    "print(\"【精确模式】：\" + \"/ \".join(jieba.cut(ft_text, cut_all=False)))"
   ]
  },
  {
   "cell_type": "code",
   "execution_count": 25,
   "metadata": {},
   "outputs": [
    {
     "name": "stdout",
     "output_type": "stream",
     "text": [
      "【搜索引擎模式】：人生/ 易/ 老天/ 難老/  / 歲/ 歲/ 重陽/  / 今/ 又/ 重陽/  / 戰地/ 黃/ 花/ 分外/ 香/  / 壹年/ 壹度/ 秋風勁/  / 不/ 似/ 春光/  / 勝似/ 春光/  / 寥廓/ 江天/ 萬/ 裏/ 霜/  \n"
     ]
    }
   ],
   "source": [
    "print(\"【搜索引擎模式】：\" + \"/ \".join(jieba.cut_for_search(ft_text)))"
   ]
  },
  {
   "cell_type": "code",
   "execution_count": 26,
   "metadata": {},
   "outputs": [
    {
     "name": "stdout",
     "output_type": "stream",
     "text": [
      "【未加载词典】：周大福/ 是/ 创新/ 办/ 主任/ 也/ 是/ 云/ 计算/ 方面/ 的/ 专家\n"
     ]
    }
   ],
   "source": [
    "sample_text = \"周大福是创新办主任也是云计算方面的专家\"\n",
    "print(\"【未加载词典】：\" + '/ '.join(jieba.cut(sample_text)))"
   ]
  },
  {
   "cell_type": "code",
   "execution_count": 35,
   "metadata": {},
   "outputs": [
    {
     "name": "stdout",
     "output_type": "stream",
     "text": [
      "【加载词典后】：周大福/ 是/ 创新/ 办/ 主任/ 也/ 是/ 云计算/ 方面/ 的/ 专家\n"
     ]
    }
   ],
   "source": [
    "jieba.load_userdict(\"userdict.txt\")\n",
    "print(\"【加载词典后】：\" + '/ '.join(jieba.cut(sample_text)))"
   ]
  },
  {
   "cell_type": "code",
   "execution_count": 36,
   "metadata": {},
   "outputs": [],
   "source": [
    "jieba.add_word('石墨烯') #增加自定义词语"
   ]
  },
  {
   "cell_type": "code",
   "execution_count": 37,
   "metadata": {},
   "outputs": [
    {
     "name": "stdout",
     "output_type": "stream",
     "text": [
      "【调节词频前】：如果/放到/post/中将/出错/。\n"
     ]
    }
   ],
   "source": [
    "print(\"【调节词频前】：\" + '/'.join(jieba.cut('如果放到post中将出错。', HMM=False)))"
   ]
  },
  {
   "cell_type": "code",
   "execution_count": 38,
   "metadata": {},
   "outputs": [
    {
     "data": {
      "text/plain": [
       "494"
      ]
     },
     "execution_count": 38,
     "metadata": {},
     "output_type": "execute_result"
    }
   ],
   "source": [
    "jieba.suggest_freq(('中', '将'), True)"
   ]
  },
  {
   "cell_type": "code",
   "execution_count": 39,
   "metadata": {},
   "outputs": [
    {
     "name": "stdout",
     "output_type": "stream",
     "text": [
      "【调节词频后】：如果/放到/post/中/将/出错/。\n"
     ]
    }
   ],
   "source": [
    "print(\"【调节词频后】：\" + '/'.join(jieba.cut('如果放到post中将出错。', HMM=False)))"
   ]
  },
  {
   "cell_type": "code",
   "execution_count": 40,
   "metadata": {},
   "outputs": [],
   "source": [
    "s = \"此外，公司拟对全资子公司吉林欧亚置业有限公司增资4.3亿元，增资后，吉林欧亚置业注册资本由7000万元增加到5亿元。吉林欧亚置业主要经营范围为房地产开发及百货零售等业务。目前在建吉林欧亚城市商业综合体项目。2013年，实现营业收入0万元，实现净利润-139.13万元。\""
   ]
  },
  {
   "cell_type": "code",
   "execution_count": 45,
   "metadata": {},
   "outputs": [
    {
     "name": "stdout",
     "output_type": "stream",
     "text": [
      "欧亚 0.7300142700289363\n",
      "吉林 0.659038184373617\n",
      "置业 0.4887134522112766\n",
      "万元 0.3392722481859574\n",
      "增资 0.33582401985234045\n",
      "4.3 0.25435675538085106\n",
      "7000 0.25435675538085106\n",
      "2013 0.25435675538085106\n",
      "139.13 0.25435675538085106\n",
      "实现 0.19900979900382978\n",
      "综合体 0.19480309624702127\n",
      "经营范围 0.19389757253595744\n",
      "亿元 0.1914421623587234\n",
      "在建 0.17541884768425534\n",
      "全资 0.17180164988510638\n",
      "注册资本 0.1712441526\n",
      "百货 0.16734460041382979\n",
      "零售 0.1475057117057447\n",
      "子公司 0.14596045237787234\n",
      "营业 0.13920178509021275\n"
     ]
    }
   ],
   "source": [
    "for x, w in anls.extract_tags(s, topK=20, withWeight=True):\n",
    "        print('%s %s' % (x, w))"
   ]
  },
  {
   "cell_type": "code",
   "execution_count": 47,
   "metadata": {},
   "outputs": [
    {
     "name": "stdout",
     "output_type": "stream",
     "text": [
      "欧亚 0.7300142700289363\n",
      "吉林 0.659038184373617\n"
     ]
    }
   ],
   "source": [
    "for x, w in anls.extract_tags(s, topK=20, withWeight=True):\n",
    "    if w > 0.5:\n",
    "        print('%s %s' % (x, w))"
   ]
  },
  {
   "cell_type": "code",
   "execution_count": 48,
   "metadata": {},
   "outputs": [
    {
     "name": "stdout",
     "output_type": "stream",
     "text": [
      "吉林 1.0\n",
      "欧亚 0.9966893354178172\n",
      "置业 0.6434360313092776\n",
      "实现 0.5898606692859626\n",
      "收入 0.43677859947991454\n",
      "增资 0.4099900531283276\n",
      "子公司 0.35678295947672795\n",
      "城市 0.34971383667403655\n",
      "商业 0.34817220716026936\n",
      "业务 0.3092230992619838\n",
      "在建 0.3077929164033088\n",
      "营业 0.3035777049319588\n",
      "全资 0.303540981053475\n",
      "综合体 0.29580869172394825\n",
      "注册资本 0.29000519464085045\n",
      "有限公司 0.2807830798576574\n",
      "零售 0.27883620861218145\n",
      "百货 0.2781657628445476\n",
      "开发 0.2693488779295851\n",
      "经营范围 0.2642762173558316\n"
     ]
    }
   ],
   "source": [
    "for x, w in anls.textrank(s, withWeight=True):\n",
    "    print('%s %s' % (x, w))"
   ]
  },
  {
   "cell_type": "code",
   "execution_count": 51,
   "metadata": {},
   "outputs": [
    {
     "name": "stdout",
     "output_type": "stream",
     "text": [
      "欧亚 0.7458841454643479\n",
      "吉林 0.6733651014252174\n",
      "置业 0.49933765769413047\n",
      "万元 0.3466477318421739\n",
      "增资 0.3431245420230435\n",
      "4.3 0.25988625006304344\n",
      "7000 0.25988625006304344\n",
      "2013 0.25988625006304344\n",
      "139.13 0.25988625006304344\n",
      "实现 0.20333609898217392\n",
      "综合体 0.19903794616543477\n",
      "经营范围 0.19811273715630434\n",
      "亿元 0.19560394849695653\n",
      "在建 0.17923230089478262\n",
      "全资 0.17553646836086956\n",
      "注册资本 0.1749668515695652\n",
      "百货 0.1709825265097826\n",
      "零售 0.1507123576123913\n",
      "子公司 0.1491335056904348\n",
      "营业 0.14222791085304348\n"
     ]
    }
   ],
   "source": [
    "jieba.analyse.set_stop_words(\"stop_words.txt\");\n",
    "for x, w in anls.extract_tags(s, topK=20, withWeight=True):\n",
    "    print('%s %s' % (x, w))"
   ]
  },
  {
   "cell_type": "code",
   "execution_count": 52,
   "metadata": {},
   "outputs": [
    {
     "name": "stdout",
     "output_type": "stream",
     "text": [
      "他 r\n",
      "改变 v\n",
      "了 ul\n",
      "中国 ns\n"
     ]
    }
   ],
   "source": [
    "words = pseg.cut(\"他改变了中国\")\n",
    "for word, flag in words:\n",
    "    print(\"{0} {1}\".format(word, flag))"
   ]
  },
  {
   "cell_type": "code",
   "execution_count": 53,
   "metadata": {},
   "outputs": [
    {
     "name": "stdout",
     "output_type": "stream",
     "text": [
      "【普通模式】\n",
      "word: 上海 \t\t start: 0 \t\t end: 2\n",
      "word: 益民 \t\t start: 2 \t\t end: 4\n",
      "word: 食品 \t\t start: 4 \t\t end: 6\n",
      "word: 一厂 \t\t start: 6 \t\t end: 8\n",
      "word: 有限公司 \t\t start: 8 \t\t end: 12\n"
     ]
    }
   ],
   "source": [
    "result = jieba.tokenize(u'上海益民食品一厂有限公司')\n",
    "print(\"【普通模式】\")\n",
    "for tk in result:\n",
    "    print(\"word: {0} \\t\\t start: {1} \\t\\t end: {2}\".format(tk[0],tk[1],tk[2]))"
   ]
  },
  {
   "cell_type": "code",
   "execution_count": 54,
   "metadata": {},
   "outputs": [
    {
     "name": "stdout",
     "output_type": "stream",
     "text": [
      "【搜索模式】\n",
      "word: 上海 \t\t start: 0 \t\t end: 2\n",
      "word: 益民 \t\t start: 2 \t\t end: 4\n",
      "word: 食品 \t\t start: 4 \t\t end: 6\n",
      "word: 一厂 \t\t start: 6 \t\t end: 8\n",
      "word: 有限 \t\t start: 8 \t\t end: 10\n",
      "word: 公司 \t\t start: 10 \t\t end: 12\n",
      "word: 有限公司 \t\t start: 8 \t\t end: 12\n"
     ]
    }
   ],
   "source": [
    "result = jieba.tokenize(u'上海益民食品一厂有限公司', mode='search')\n",
    "print(\"【搜索模式】\")\n",
    "for tk in result:\n",
    "    print(\"word: {0} \\t\\t start: {1} \\t\\t end: {2}\".format(tk[0],tk[1],tk[2]))"
   ]
  },
  {
   "cell_type": "code",
   "execution_count": 60,
   "metadata": {},
   "outputs": [
    {
     "name": "stdout",
     "output_type": "stream",
     "text": [
      "【全模式】：/ / 周恩来/ 恩来/ / 1898/ 年/ 3/ 月/ 5/ 日/ / 1976/ 年/ 1/ 月/ 8/ 日/ / / / / 原籍/ 浙江/ 绍兴/ / 1898/ 年/ 3/ 月/ 5/ 日/ 生于/ 江苏/ 淮安/ / 1921/ 年/ 加入/ 中国/ 中国共产党/ 国共/ 共产/ 共产党/ / / 是/ 伟大/ 的/ 马克/ 马克思/ 马克思主义/ 马克思主义者/ 主义/ 主义者/ / / 伟大/ 的/ 无产/ 无产阶级/ 阶级/ 革命/ 革命家/ / / 政治/ 政治家/ 治家/ / / 军事/ 军事家/ / / 外交/ 外交家/ / / 党和国家/ 国家/ 家主/ 主要/ 要领/ 领导/ 领导人/ 之一/ / / 中国/ 中国人民解放军/ 国人/ 人民/ 人民解放军/ 解放/ 解放军/ 主要/ 创建/ 创建人/ 之一/ / / 中华/ 中华人民/ 中华人民共和国/ 华人/ 人民/ 人民共和国/ 共和/ 共和国/ 的/ 开国/ 开国元勋/ 元勋/ / / 是/ 以/ 毛泽东/ 同志/ 为/ 核心/ 的/ 党/ 的/ 第一/ 第一代/ 一代/ 中央/ 领导/ 领导集体/ 集体/ 的/ 重要/ 成员/ / / 1/ / / / \n",
      "1976/ 年/ 1/ 月/ 8/ 日/ 在/ 北京/ 逝世/ / / 他/ 的/ 逝世/ 受到/ 极广/ 广泛/ 的/ 悼念/ / / 由于/ 他/ 一贯/ 勤奋/ 勤奋工作/ 工作/ / / 严于/ 严于律己/ 律己/ / / 关心/ 关心群众/ 群众/ / / 被/ 称为/ / / 人民/ 的/ 好/ 总理/ / / / 他/ 的/ 主要/ 著作/ 收入/ / / 周恩来/ 恩来/ 选集/ / / \n"
     ]
    }
   ],
   "source": [
    "import jieba\n",
    "import jieba.posseg as pseg\n",
    "import jieba.analyse as anls\n",
    "with open( 'zhouenlai.txt', 'r',encoding=\"utf-8\" ) as f:\n",
    "    ff=f.read()\n",
    "    seg_list = jieba.cut(ff, cut_all=True)\n",
    "print(\"【全模式】：\" + \"/ \".join(seg_list))"
   ]
  },
  {
   "cell_type": "code",
   "execution_count": 72,
   "metadata": {
    "scrolled": true
   },
   "outputs": [
    {
     "name": "stdout",
     "output_type": "stream",
     "text": [
      "【全模式】：/ / 毛泽东/ / 1893/ 年/ 12/ 月/ 26/ 日/ / 1976/ 年/ 9/ 月/ 9/ 日/ / / / 字/ 润/ 之/ / / 原作/ 咏/ 芝/ / / 后/ 改/ 润/ 芝/ / / / 笔名/ 名子/ 任/ / / 湖南/ 南湘/ 湘潭/ 湘潭人/ / / 中国/ 国人/ 人民/ 的/ 领袖/ / / 伟大/ 的/ 马克/ 马克思/ 马克思主义/ 马克思主义者/ 主义/ 主义者/ / / 无产/ 无产阶级/ 阶级/ 革命/ 革命家/ / / 战略/ 战略家/ 和/ 理论/ 理论家/ / / 中国/ 中国共产党/ 国共/ 共产/ 共产党/ / / 中国/ 中国人民解放军/ 国人/ 人民/ 人民解放军/ 解放/ 解放军/ 和/ 中华/ 中华人民/ 中华人民共和国/ 华人/ 人民/ 人民共和国/ 共和/ 共和国/ 的/ 主要/ 缔造/ 缔造者/ 和/ 领导/ 领导人/ / / 诗人/ / / 书法/ 书法家/ 法家/ / / / 1/ / \n",
      "1949/ 至/ 1976/ 年/ / / 毛泽东/ 担任/ 任中华/ 中华/ 中华人民/ 中华人民共和国/ 华人/ 人民/ 人民共和国/ 共和/ 共和国/ 最高/ 高领/ 领导/ 领导人/ / / 他/ 对/ 马克/ 马克思/ 马克思列/ 马克思列宁主义/ 列宁/ 列宁主义/ 主义/ 的/ 发展/ / / 军事/ 事理/ 理论/ 的/ 贡献/ 以及/ 对/ 共产/ 共产党/ 的/ 理论/ 贡献/ 被/ 称为/ 毛泽东/ 毛泽东思想/ 思想/ / / 因/ 毛泽东/ 担任/ 过/ 的/ 主要/ 要职/ 职务/ 几乎/ 全部/ 称为/ 为主/ 主席/ / / 所以/ 也/ 被/ 人们/ 尊称/ 称为/ / / 毛主席/ 主席/ / / \n",
      "/ 毛泽东/ 被/ 视为/ 现代/ 世界/ 历史/ 中/ 最重/ 重要/ 的/ 人物/ 之一/ / / / 时代/ / / 杂志/ 也/ 将/ 他/ 评为/ 20/ 世纪/ 最/ 具/ 影响/ 100/ 人/ 之一/ / \n"
     ]
    }
   ],
   "source": [
    "with open( 'maozedong.txt', 'r',encoding=\"utf-8\" ) as f:\n",
    "    ff=f.read()\n",
    "    seg_list = jieba.cut(ff, cut_all=True)\n",
    "print(\"【全模式】：\" + \"/ \".join(seg_list))"
   ]
  },
  {
   "cell_type": "code",
   "execution_count": 65,
   "metadata": {},
   "outputs": [
    {
     "data": {
      "text/plain": [
       "<generator object Tokenizer.cut at 0x0000002FE7DAF948>"
      ]
     },
     "execution_count": 65,
     "metadata": {},
     "output_type": "execute_result"
    }
   ],
   "source": [
    "for i in "
   ]
  },
  {
   "cell_type": "code",
   "execution_count": null,
   "metadata": {},
   "outputs": [],
   "source": []
  },
  {
   "cell_type": "code",
   "execution_count": 67,
   "metadata": {},
   "outputs": [],
   "source": [
    "for i in seg_list:\n",
    "    print(i)"
   ]
  },
  {
   "cell_type": "code",
   "execution_count": 68,
   "metadata": {},
   "outputs": [],
   "source": [
    "a=[1,2,2,3,4,5]\n",
    "zidian={}\n",
    "for i in a:\n",
    "    if i in zidian.keys():\n",
    "        zidian[i]+=1\n",
    "    else:\n",
    "        zidian[i]=1"
   ]
  },
  {
   "cell_type": "code",
   "execution_count": 69,
   "metadata": {},
   "outputs": [
    {
     "data": {
      "text/plain": [
       "{1: 1, 2: 2, 3: 1, 4: 1, 5: 1}"
      ]
     },
     "execution_count": 69,
     "metadata": {},
     "output_type": "execute_result"
    }
   ],
   "source": [
    "zidian"
   ]
  },
  {
   "cell_type": "code",
   "execution_count": 73,
   "metadata": {},
   "outputs": [
    {
     "name": "stdout",
     "output_type": "stream",
     "text": [
      "【返回列表】：<generator object Tokenizer.cut at 0x0000002FE7DAFEC8>\n"
     ]
    }
   ],
   "source": [
    "with open( 'maozedong.txt', 'r',encoding=\"utf-8\" ) as f:\n",
    "    ff=f.read()\n",
    "    seg_list = jieba.cut(ff, cut_all=True)\n",
    "print(\"【返回列表】：{0}\".format(seg_list))"
   ]
  },
  {
   "cell_type": "code",
   "execution_count": null,
   "metadata": {},
   "outputs": [],
   "source": []
  }
 ],
 "metadata": {
  "kernelspec": {
   "display_name": "Python 3",
   "language": "python",
   "name": "python3"
  },
  "language_info": {
   "codemirror_mode": {
    "name": "ipython",
    "version": 3
   },
   "file_extension": ".py",
   "mimetype": "text/x-python",
   "name": "python",
   "nbconvert_exporter": "python",
   "pygments_lexer": "ipython3",
   "version": "3.7.4"
  }
 },
 "nbformat": 4,
 "nbformat_minor": 2
}
